{
  "nbformat": 4,
  "nbformat_minor": 0,
  "metadata": {
    "colab": {
      "provenance": []
    },
    "kernelspec": {
      "name": "python3",
      "display_name": "Python 3"
    },
    "language_info": {
      "name": "python"
    }
  },
  "cells": [
    {
      "cell_type": "code",
      "source": [
        "from plotting_and_ml_functions import *\n",
        "from data_generate_and_plot import *"
      ],
      "metadata": {
        "id": "w0vC26AOVPwV"
      },
      "execution_count": null,
      "outputs": []
    },
    {
      "cell_type": "code",
      "source": [
        "X,Y = load_coffee_data();\n",
        "print(X.shape, Y.shape)"
      ],
      "metadata": {
        "id": "UdqxY6TfU4Sl"
      },
      "execution_count": null,
      "outputs": []
    },
    {
      "cell_type": "code",
      "source": [
        "plt_roast(X,Y)"
      ],
      "metadata": {
        "id": "ASxifY2yU49E"
      },
      "execution_count": null,
      "outputs": []
    },
    {
      "cell_type": "code",
      "source": [
        "print(f\"Temperature Max, Min pre normalization: {np.max(X[:,0]):0.2f}, {np.min(X[:,0]):0.2f}\")\n",
        "print(f\"Duration    Max, Min pre normalization: {np.max(X[:,1]):0.2f}, {np.min(X[:,1]):0.2f}\")\n",
        "\n",
        "norm_1 = tf.keras.layers.Normalization(axis = -1)\n",
        "norm_1.adapt(X)\n",
        "Xn = norm_1(X)\n",
        "\n",
        "print(f\"Temperature Max, Min post normalization: {np.max(Xn[:,0]):0.2f}, {np.min(Xn[:,0]):0.2}\")\n",
        "print(f\"Duration    Max, Min post normalization: {np.max(Xn[:,1]):0.2f}, {np.min(Xn[:,1]):0.2f}\")"
      ],
      "metadata": {
        "id": "XcuJ0E9WVhkl"
      },
      "execution_count": null,
      "outputs": []
    },
    {
      "cell_type": "code",
      "source": [
        "g = sigmoid"
      ],
      "metadata": {
        "id": "IUnYCGnkV3Zt"
      },
      "execution_count": null,
      "outputs": []
    },
    {
      "cell_type": "code",
      "source": [
        "def my_dense(a_in, W, b):\n",
        "      \"\"\"\n",
        "    Computes dense layer\n",
        "    Args:\n",
        "      a_in (ndarray (n, )) : Data, 1 example\n",
        "      W    (ndarray (n,j)) : Weight matrix, n features per unit, j units\n",
        "      b    (ndarray (j, )) : bias vector, j units\n",
        "    Returns\n",
        "      a_out (ndarray (j,))  : j units|\n",
        "    \"\"\"\n",
        "    units = W.shape[1]\n",
        "    a_out = np.zeros(units)\n",
        "    for j in range(units):\n",
        "      w = W[:,j]\n",
        "      z = np.dot(w, a_in) + b[j]\n",
        "      a_out[j] = g(z)\n",
        "    return(a_out)\n",
        "\n"
      ],
      "metadata": {
        "id": "iTBDimVDV9gd"
      },
      "execution_count": null,
      "outputs": []
    },
    {
      "cell_type": "code",
      "source": [
        "def my_sequential(x, W1, b1, W2, b2):\n",
        "    a1 = my_dense(x,  W1, b1)\n",
        "    a2 = my_dense(a1, W2, b2)\n",
        "    return(a2)"
      ],
      "metadata": {
        "id": "QlAi-jbeWYIf"
      },
      "execution_count": null,
      "outputs": []
    },
    {
      "cell_type": "code",
      "source": [
        "W1_tmp = np.array( [[-8.93,  0.29, 12.9 ], [-0.1,  -7.32, 10.81]] )\n",
        "b1_tmp = np.array( [-9.82, -9.28,  0.96] )\n",
        "W2_tmp = np.array( [[-31.18], [-27.59], [-32.56]] )\n",
        "b2_tmp = np.array( [15.41] )"
      ],
      "metadata": {
        "id": "6Y9PQtboWdOF"
      },
      "execution_count": null,
      "outputs": []
    },
    {
      "cell_type": "code",
      "source": [
        "def my_predict(X, W1, b1, W2, b2):\n",
        "  m = X.shape[0]\n",
        "  p = np.zeros((m,1))\n",
        "  for i in range(m):\n",
        "    p[i,0] = my_sequential(X[i], W1, b1, W2, b2)\n",
        "  return(p)"
      ],
      "metadata": {
        "id": "j0okwobBWjZ1"
      },
      "execution_count": null,
      "outputs": []
    },
    {
      "cell_type": "code",
      "source": [
        "X_tst = np.array([\n",
        "    [200,13.9],\n",
        "    [200,17]])\n",
        "X_tstn = norm_1(X_tst)\n",
        "predictions = my_predict(X_tstn, W1_tmp, b1_tmp, W2_tmp, b2_tmp)"
      ],
      "metadata": {
        "id": "0O285vSdWqK3"
      },
      "execution_count": null,
      "outputs": []
    },
    {
      "cell_type": "code",
      "source": [
        "yhat = np.zeros_like(predictions)\n",
        "for i in range(len(predictions)):\n",
        "  if predictions[i] >= 0.5:\n",
        "    yhat[i] = 1\n",
        "  else:\n",
        "    yhat[i] = 0\n",
        "print(f\"decisions = \\n{yhat}\")"
      ],
      "metadata": {
        "id": "_rI3HYvRW3Qc"
      },
      "execution_count": null,
      "outputs": []
    },
    {
      "cell_type": "code",
      "source": [
        "yhat = (predictions >= 0.5).astype(int)\n",
        "print(f\"decisions = \\n{yhat}\")"
      ],
      "metadata": {
        "id": "8eSt9UyHXH3i"
      },
      "execution_count": null,
      "outputs": []
    },
    {
      "cell_type": "code",
      "source": [
        "netf= lambda x : my_predict(norm_l(x),W1_tmp, b1_tmp, W2_tmp, b2_tmp)\n",
        "plt_network(X,Y,netf)"
      ],
      "metadata": {
        "id": "GfP0qaHsXJuL"
      },
      "execution_count": null,
      "outputs": []
    }
  ]
}